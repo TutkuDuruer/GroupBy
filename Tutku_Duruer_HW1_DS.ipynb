{
  "nbformat": 4,
  "nbformat_minor": 0,
  "metadata": {
    "colab": {
      "provenance": [],
      "toc_visible": true,
      "authorship_tag": "ABX9TyN8ozjX4vBClZs/mMwLZhic",
      "include_colab_link": true
    },
    "kernelspec": {
      "name": "python3",
      "display_name": "Python 3"
    },
    "language_info": {
      "name": "python"
    }
  },
  "cells": [
    {
      "cell_type": "markdown",
      "metadata": {
        "id": "view-in-github",
        "colab_type": "text"
      },
      "source": [
        "<a href=\"https://colab.research.google.com/github/TutkuDuruer/GroupBy/blob/main/Tutku_Duruer_HW1_DS.ipynb\" target=\"_parent\"><img src=\"https://colab.research.google.com/assets/colab-badge.svg\" alt=\"Open In Colab\"/></a>"
      ]
    },
    {
      "cell_type": "code",
      "execution_count": null,
      "metadata": {
        "colab": {
          "base_uri": "https://localhost:8080/"
        },
        "id": "ZzB64q8RrTch",
        "outputId": "be3de870-5fff-4939-f864-13d6924c2a83"
      },
      "outputs": [
        {
          "output_type": "stream",
          "name": "stdout",
          "text": [
            "Max Money: 0.0 , With Discount: 0.0\n"
          ]
        }
      ],
      "source": [
        "# QUESTION 14\n",
        "\n",
        "# dictionary items hold item ids as keys and properties as values\n",
        "# ids list contains product ids\n",
        "# find the smallest id in ids list and calculate max money you can get by selling all the stock\n",
        "# if you make 35% discount, calculate new result\n",
        "# print results in format \"Max Money: ... , With Discount: ...\"\n",
        "\n",
        "ids = [83,98,67]\n",
        "items = {\n",
        "    83 : {\n",
        "        \"stock\": 100,\n",
        "        \"price\": 89.08\n",
        "    },\n",
        "    98 : {\n",
        "        \"stock\": 7546,\n",
        "        \"price\": 23.12\n",
        "    },\n",
        "    67 : {\n",
        "        \"stock\": 0,\n",
        "        \"price\": 4.5\n",
        "    }\n",
        "}\n",
        "max_id = max(ids)\n",
        "items[max_id][\"stock\"]\n",
        "\n",
        "\n",
        "min_ids=min(ids)\n",
        "items[min_ids][\"stock\"]\n",
        "\n",
        "max_money = items[min_ids][\"stock\"] * items[min_ids][\"price\"]\n",
        "discount_price = items[min_ids][\"price\"] * 0.75\n",
        "with_discount = discount_price*items[min_ids][\"stock\"]\n",
        "print(f\"Max Money: {max_money} , With Discount: {with_discount}\")\n",
        "\n",
        "\n"
      ]
    }
  ]
}